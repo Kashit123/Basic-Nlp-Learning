{
  "nbformat": 4,
  "nbformat_minor": 0,
  "metadata": {
    "colab": {
      "provenance": []
    },
    "kernelspec": {
      "name": "python3",
      "display_name": "Python 3"
    },
    "language_info": {
      "name": "python"
    }
  },
  "cells": [
    {
      "cell_type": "code",
      "execution_count": 1,
      "metadata": {
        "id": "6u2Udefk7gqG",
        "colab": {
          "base_uri": "https://localhost:8080/"
        },
        "outputId": "26be0344-5cb9-4c8c-ff49-bf71d9679c37"
      },
      "outputs": [
        {
          "output_type": "stream",
          "name": "stdout",
          "text": [
            "Mounted at /content/drive\n"
          ]
        }
      ],
      "source": [
        "from google.colab import drive\n",
        "import os\n",
        "drive.mount('/content/drive')"
      ]
    },
    {
      "cell_type": "code",
      "source": [
        "import pandas as pd \n",
        "import numpy as np\n",
        "import matplotlib.pyplot as plt"
      ],
      "metadata": {
        "id": "z8GEPDPw76jU"
      },
      "execution_count": 2,
      "outputs": []
    },
    {
      "cell_type": "code",
      "source": [
        "df=pd.read_csv('/content/drive/MyDrive/datatset/training.1600000.processed.noemoticon.csv',encoding='ISO-8859-1',names=['target','id','date','flag','user','text'],index_col=False)"
      ],
      "metadata": {
        "id": "LQ2datcr8Fia"
      },
      "execution_count": 3,
      "outputs": []
    },
    {
      "cell_type": "code",
      "source": [
        "df.info()"
      ],
      "metadata": {
        "colab": {
          "base_uri": "https://localhost:8080/"
        },
        "id": "gXz9w_Xg8ad1",
        "outputId": "f861ba7d-b497-4aa6-a7fe-43af0388c725"
      },
      "execution_count": 4,
      "outputs": [
        {
          "output_type": "stream",
          "name": "stdout",
          "text": [
            "<class 'pandas.core.frame.DataFrame'>\n",
            "RangeIndex: 1600000 entries, 0 to 1599999\n",
            "Data columns (total 6 columns):\n",
            " #   Column  Non-Null Count    Dtype \n",
            "---  ------  --------------    ----- \n",
            " 0   target  1600000 non-null  int64 \n",
            " 1   id      1600000 non-null  int64 \n",
            " 2   date    1600000 non-null  object\n",
            " 3   flag    1600000 non-null  object\n",
            " 4   user    1600000 non-null  object\n",
            " 5   text    1600000 non-null  object\n",
            "dtypes: int64(2), object(4)\n",
            "memory usage: 73.2+ MB\n"
          ]
        }
      ]
    },
    {
      "cell_type": "code",
      "source": [
        "df['target'].unique()"
      ],
      "metadata": {
        "colab": {
          "base_uri": "https://localhost:8080/"
        },
        "id": "UK04nPmeAvFo",
        "outputId": "95dcb59c-859d-470f-bb63-398fdc54e51c"
      },
      "execution_count": 5,
      "outputs": [
        {
          "output_type": "execute_result",
          "data": {
            "text/plain": [
              "array([0, 4])"
            ]
          },
          "metadata": {},
          "execution_count": 5
        }
      ]
    },
    {
      "cell_type": "code",
      "source": [
        "# converting to positive and negative\n",
        "classes=df.target.unique()\n",
        "counts=[]\n",
        "for i in classes:\n",
        "  count=len(df[df.target == i])\n",
        "  counts.append(count)\n",
        "plt.bar(['Negative','Positive'],counts)\n",
        "plt.show()"
      ],
      "metadata": {
        "colab": {
          "base_uri": "https://localhost:8080/",
          "height": 265
        },
        "id": "3jRPGmKrA9R2",
        "outputId": "4b935c8e-560a-4ad9-be26-84a9804f87cb"
      },
      "execution_count": 6,
      "outputs": [
        {
          "output_type": "display_data",
          "data": {
            "text/plain": [
              "<Figure size 432x288 with 1 Axes>"
            ],
            "image/png": "[encoded data removed]"
          },
          "metadata": {
            "needs_background": "light"
          }
        }
      ]
    },
    {
      "cell_type": "code",
      "source": [
        "from nltk.corpus import stopwords\n",
        "import nltk\n",
        "nltk.download('stopwords')\n",
        "stop = stopwords.words('english')"
      ],
      "metadata": {
        "colab": {
          "base_uri": "https://localhost:8080/"
        },
        "id": "MRq_OV6hEUf-",
        "outputId": "bd15f54b-e49e-4d86-bf29-a493721953d0"
      },
      "execution_count": 7,
      "outputs": [
        {
          "output_type": "stream",
          "name": "stderr",
          "text": [
            "[nltk_data] Downloading package stopwords to /root/nltk_data...\n",
            "[nltk_data]   Unzipping corpora/stopwords.zip.\n"
          ]
        }
      ]
    },
    {
      "cell_type": "code",
      "source": [
        "# for stop words\n",
        "df['text_without_stopwords'] = df['text'].apply(lambda x: ' '.join([word for word in x.split() if word not in (stop)]))\n",
        "df.drop(['text'],axis=1,inplace=True)"
      ],
      "metadata": {
        "id": "nfXUrG_lEodD"
      },
      "execution_count": 8,
      "outputs": []
    },
    {
      "cell_type": "code",
      "source": [
        "# for @ re post\n",
        "import re\n",
        "\n",
        "def remove_usernames_links(tweet):\n",
        "    tweet = re.sub('@[^\\s]+','',tweet)\n",
        "    tweet = re.sub('http[^\\s]+','',tweet)\n",
        "    return tweet\n",
        "df['text_without_stopwords'] = df['text_without_stopwords'].apply(remove_usernames_links)"
      ],
      "metadata": {
        "id": "weuh6smvkgyS"
      },
      "execution_count": 9,
      "outputs": []
    },
    {
      "cell_type": "code",
      "source": [
        "# for special character \n",
        "df['text_without_stopwords'] = df['text_without_stopwords'].str.replace(r\"[\\\"\\'\\|\\?\\=\\.\\;\\#\\*\\-\\,\\?\\:\\(\\)\\{\\}\\[\\]\\+\\%\\!\\/]\", '')"
      ],
      "metadata": {
        "colab": {
          "base_uri": "https://localhost:8080/"
        },
        "id": "aeCdwg6lc5r-",
        "outputId": "0ce77a50-7732-4026-8f7b-418640870880"
      },
      "execution_count": 10,
      "outputs": [
        {
          "output_type": "stream",
          "name": "stderr",
          "text": [
            "<ipython-input-10-5e760d7bfe59>:2: FutureWarning: The default value of regex will change from True to False in a future version.\n",
            "  df['text_without_stopwords'] = df['text_without_stopwords'].str.replace(r\"[\\\"\\'\\|\\?\\=\\.\\;\\#\\*\\-\\,\\?\\:\\(\\)\\{\\}\\[\\]\\+\\%\\!\\/]\", '')\n"
          ]
        }
      ]
    },
    {
      "cell_type": "code",
      "source": [
        "# for url\n",
        "df[\"text_without_stopwords\"] = df[\"text_without_stopwords\"].str.replace(r'\\s*https?://\\S+(\\s+|$)-;', ' ').str.strip()"
      ],
      "metadata": {
        "colab": {
          "base_uri": "https://localhost:8080/"
        },
        "id": "b3-nUySEfKc-",
        "outputId": "7198411c-c6b2-4ed3-e4a3-cefad68ba6db"
      },
      "execution_count": 11,
      "outputs": [
        {
          "output_type": "stream",
          "name": "stderr",
          "text": [
            "<ipython-input-11-1a8834e5727c>:2: FutureWarning: The default value of regex will change from True to False in a future version.\n",
            "  df[\"text_without_stopwords\"] = df[\"text_without_stopwords\"].str.replace(r'\\s*https?://\\S+(\\s+|$)-;', ' ').str.strip()\n"
          ]
        }
      ]
    },
    {
      "cell_type": "code",
      "source": [
        "# lower case\n",
        "df['text_without_stopwords'] = df['text_without_stopwords'].str.lower() "
      ],
      "metadata": {
        "id": "EH8TDQ3Tn8yC"
      },
      "execution_count": 12,
      "outputs": []
    },
    {
      "cell_type": "code",
      "source": [
        "for i in range(50):\n",
        "  print(df['text_without_stopwords'][i])"
      ],
      "metadata": {
        "colab": {
          "base_uri": "https://localhost:8080/"
        },
        "id": "RgDQ9zqNwTMk",
        "outputId": "9d62a1ee-37d5-44e3-eba6-065d3c5b3038"
      },
      "execution_count": 13,
      "outputs": [
        {
          "output_type": "stream",
          "name": "stdout",
          "text": [
            "awww thats bummer you shoulda got david carr third day it d\n",
            "upset cant update facebook texting it might cry result school today also blah\n",
            "i dived many times ball managed save 50 the rest go bounds\n",
            "whole body feels itchy like fire\n",
            "no behaving all im mad here i cant see there\n",
            "whole crew\n",
            "need hug\n",
            "hey long time see yes rains bit only bit lol  im fine thanks  hows\n",
            "nope\n",
            "que muera\n",
            "spring break plain city snowing\n",
            "i repierced ears\n",
            "i bear watch it and i thought ua loss embarrassing\n",
            "it counts idk i either never talk anymore\n",
            "wouldve first gun really though zac snyders doucheclown\n",
            "i wish i got watch you i miss  premiere\n",
            "hollis death scene hurt severely watch film wry directors cut now\n",
            "file taxes\n",
            "ahh ive always wanted see rent love soundtrack\n",
            "oh dear were drinking forgotten table drinks\n",
            "day get much done\n",
            "one friend called me asked meet mid valley todaybut ive time sigh\n",
            "i baked cake i ated\n",
            "week going hoped\n",
            "blagh class 8 tomorrow\n",
            "i hate i call wake people\n",
            "just going cry sleep watching marley me\n",
            "im sad misslilly\n",
            "ooooh lol leslie ok i leslie get mad\n",
            "meh almost lover exception track gets depressed every time\n",
            "some1 hacked account aim make new one\n",
            "i want go promote gear and groove unfornately ride i may b going one anaheim may though\n",
            "thought sleeping option tomorrow realizing not evaluations morning work afternoon\n",
            "awe love too 1 miss\n",
            "i cry asian eyes sleep night\n",
            "ok im sick spent hour sitting shower cause i sick stand held back puke like champ bed\n",
            "ill tell ya story later good day ill workin like three hours\n",
            "sorry bed time came gmt1\n",
            "i either its depressing i think i even want know kids suitcases\n",
            "bed class 812 work 123 gym 35 6 then class 610 another day thats gonna fly by i miss girlfriend\n",
            "really feel like getting today got study tomorrows practical exam\n",
            "hes reason teardrops guitar one enough break heart\n",
            "sad sad sad i know i hate feeling i wanna sleep i still cant\n",
            "awww i soo wish i see finally comfortable im sad i missed\n",
            "falling asleep just heard tracy girls body found how sad my heart breaks family\n",
            "yay im happy job but also means less time you\n",
            "just checked user timeline blackberry looks like twanking still happening are ppl still probs w bgs uids\n",
            "oh manwas ironing  fave top wear meeting burnt\n",
            "strangely sad lilo samro breaking up\n",
            "oh im sorry think retweeting\n"
          ]
        }
      ]
    },
    {
      "cell_type": "code",
      "source": [
        "# steming\n",
        "import nltk\n",
        "nltk.download('wordnet')\n",
        "nltk.download('omw-1.4')\n",
        "from nltk.stem import PorterStemmer\n",
        "from nltk.stem import WordNetLemmatizer\n",
        "Lemmatizer=WordNetLemmatizer()\n",
        "def work(word):\n",
        "  word=Lemmatizer.lemmatize(word)\n",
        "  return word\n",
        "df['text_without_stopwords']=df['text_without_stopwords'].apply(work)\n"
      ],
      "metadata": {
        "id": "FS9Bhb7jtk1v",
        "colab": {
          "base_uri": "https://localhost:8080/"
        },
        "outputId": "c3a015de-9aa0-4ece-bc89-c6b31c7f4e5c"
      },
      "execution_count": 18,
      "outputs": [
        {
          "output_type": "stream",
          "name": "stderr",
          "text": [
            "[nltk_data] Downloading package wordnet to /root/nltk_data...\n",
            "[nltk_data]   Package wordnet is already up-to-date!\n",
            "[nltk_data] Downloading package omw-1.4 to /root/nltk_data...\n"
          ]
        }
      ]
    },
    {
      "cell_type": "code",
      "source": [
        "for i in range(50):\n",
        "  print(df['text_without_stopwords'][i])"
      ],
      "metadata": {
        "colab": {
          "base_uri": "https://localhost:8080/"
        },
        "id": "rTLCN-dkc5u0",
        "outputId": "e950f507-e847-4aab-bded-0a99affe895d"
      },
      "execution_count": 19,
      "outputs": [
        {
          "output_type": "stream",
          "name": "stdout",
          "text": [
            "awww thats bummer you shoulda got david carr third day it d\n",
            "upset cant update facebook texting it might cry result school today also blah\n",
            "i dived many times ball managed save 50 the rest go bounds\n",
            "whole body feels itchy like fire\n",
            "no behaving all im mad here i cant see there\n",
            "whole crew\n",
            "need hug\n",
            "hey long time see yes rains bit only bit lol  im fine thanks  hows\n",
            "nope\n",
            "que muera\n",
            "spring break plain city snowing\n",
            "i repierced ears\n",
            "i bear watch it and i thought ua loss embarrassing\n",
            "it counts idk i either never talk anymore\n",
            "wouldve first gun really though zac snyders doucheclown\n",
            "i wish i got watch you i miss  premiere\n",
            "hollis death scene hurt severely watch film wry directors cut now\n",
            "file taxes\n",
            "ahh ive always wanted see rent love soundtrack\n",
            "oh dear were drinking forgotten table drinks\n",
            "day get much done\n",
            "one friend called me asked meet mid valley todaybut ive time sigh\n",
            "i baked cake i ated\n",
            "week going hoped\n",
            "blagh class 8 tomorrow\n",
            "i hate i call wake people\n",
            "just going cry sleep watching marley me\n",
            "im sad misslilly\n",
            "ooooh lol leslie ok i leslie get mad\n",
            "meh almost lover exception track gets depressed every time\n",
            "some1 hacked account aim make new one\n",
            "i want go promote gear and groove unfornately ride i may b going one anaheim may though\n",
            "thought sleeping option tomorrow realizing not evaluations morning work afternoon\n",
            "awe love too 1 miss\n",
            "i cry asian eyes sleep night\n",
            "ok im sick spent hour sitting shower cause i sick stand held back puke like champ bed\n",
            "ill tell ya story later good day ill workin like three hours\n",
            "sorry bed time came gmt1\n",
            "i either its depressing i think i even want know kids suitcases\n",
            "bed class 812 work 123 gym 35 6 then class 610 another day thats gonna fly by i miss girlfriend\n",
            "really feel like getting today got study tomorrows practical exam\n",
            "hes reason teardrops guitar one enough break heart\n",
            "sad sad sad i know i hate feeling i wanna sleep i still cant\n",
            "awww i soo wish i see finally comfortable im sad i missed\n",
            "falling asleep just heard tracy girls body found how sad my heart breaks family\n",
            "yay im happy job but also means less time you\n",
            "just checked user timeline blackberry looks like twanking still happening are ppl still probs w bgs uids\n",
            "oh manwas ironing  fave top wear meeting burnt\n",
            "strangely sad lilo samro breaking up\n",
            "oh im sorry think retweeting\n"
          ]
        }
      ]
    },
    {
      "cell_type": "code",
      "source": [
        "# splitting dataset\n",
        "\n",
        "from sklearn.model_selection import train_test_split\n",
        "x=df.text_without_stopwords.values\n",
        "y=df.target.values\n",
        "xtrain,xtest,ytrain,ytest=train_test_split(x,y,test_size=0.3,random_state=57)"
      ],
      "metadata": {
        "id": "Y4SvNoG2BsUH"
      },
      "execution_count": 28,
      "outputs": []
    },
    {
      "cell_type": "code",
      "source": [
        "from sklearn.feature_extraction.text import CountVectorizer\n",
        "vectorizer=CountVectorizer(binary=True)\n",
        "vectorizer.fit(xtrain)\n",
        "xtrain=vectorizer.transform(xtrain)\n",
        "xtest=vectorizer.transform(xtest)"
      ],
      "metadata": {
        "id": "7ex-dpwMCpDS"
      },
      "execution_count": 29,
      "outputs": []
    },
    {
      "cell_type": "code",
      "source": [
        "# Making model\n",
        "from sklearn.linear_model import LogisticRegression\n",
        "lr_model = LogisticRegression()\n",
        "lr_model.fit(xtrain,ytrain)"
      ],
      "metadata": {
        "colab": {
          "base_uri": "https://localhost:8080/"
        },
        "id": "8tQbC1DvDBMH",
        "outputId": "84a24bd1-c684-452a-8ab8-ad0a7379dc2f"
      },
      "execution_count": 30,
      "outputs": [
        {
          "output_type": "stream",
          "name": "stderr",
          "text": [
            "/usr/local/lib/python3.8/dist-packages/sklearn/linear_model/_logistic.py:814: ConvergenceWarning: lbfgs failed to converge (status=1):\n",
            "STOP: TOTAL NO. of ITERATIONS REACHED LIMIT.\n",
            "\n",
            "Increase the number of iterations (max_iter) or scale the data as shown in:\n",
            "    https://scikit-learn.org/stable/modules/preprocessing.html\n",
            "Please also refer to the documentation for alternative solver options:\n",
            "    https://scikit-learn.org/stable/modules/linear_model.html#logistic-regression\n",
            "  n_iter_i = _check_optimize_result(\n"
          ]
        },
        {
          "output_type": "execute_result",
          "data": {
            "text/plain": [
              "LogisticRegression()"
            ]
          },
          "metadata": {},
          "execution_count": 30
        }
      ]
    },
    {
      "cell_type": "code",
      "source": [
        "pred=lr_model.predict(xtest)\n",
        "prdiction_train=lr_model.predict(xtrain)"
      ],
      "metadata": {
        "id": "vNvwK6phF1pW"
      },
      "execution_count": 31,
      "outputs": []
    },
    {
      "cell_type": "code",
      "source": [
        "from sklearn.metrics import accuracy_score\n",
        "accuracy1 = accuracy_score(ytrain,prdiction_train)\n",
        "print(\"Accuracy for Train\",accuracy1*100)"
      ],
      "metadata": {
        "colab": {
          "base_uri": "https://localhost:8080/"
        },
        "id": "JEoP5op0GHfT",
        "outputId": "c1ddc118-7659-4b3e-bfba-eca8376ffa95"
      },
      "execution_count": 32,
      "outputs": [
        {
          "output_type": "stream",
          "name": "stdout",
          "text": [
            "Accuracy for Train 81.03776785714287\n"
          ]
        }
      ]
    },
    {
      "cell_type": "code",
      "source": [
        "accuracy2 = accuracy_score(ytest,pred)\n",
        "print(\"Accuracy for Test\",accuracy2*100)"
      ],
      "metadata": {
        "colab": {
          "base_uri": "https://localhost:8080/"
        },
        "id": "_Fin2EQaGa5y",
        "outputId": "10ee52d8-cd32-4203-81dc-5314da286db4"
      },
      "execution_count": 33,
      "outputs": [
        {
          "output_type": "stream",
          "name": "stdout",
          "text": [
            "Accuracy for Test 77.99145833333333\n"
          ]
        }
      ]
    },
    {
      "cell_type": "code",
      "source": [
        "# Done"
      ],
      "metadata": {
        "id": "VwwNVqIUGh9W"
      },
      "execution_count": 34,
      "outputs": []
    },
    {
      "cell_type": "code",
      "source": [],
      "metadata": {
        "id": "89J9LY5HGkRu"
      },
      "execution_count": 27,
      "outputs": []
    }
  ]
}