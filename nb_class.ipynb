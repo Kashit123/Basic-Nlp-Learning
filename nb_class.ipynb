{
  "nbformat": 4,
  "nbformat_minor": 0,
  "metadata": {
    "colab": {
      "provenance": []
    },
    "kernelspec": {
      "name": "python3",
      "display_name": "Python 3"
    },
    "language_info": {
      "name": "python"
    }
  },
  "cells": [
    {
      "cell_type": "code",
      "execution_count": 1,
      "metadata": {
        "colab": {
          "base_uri": "https://localhost:8080/"
        },
        "id": "CheZlZlUzkdM",
        "outputId": "c457e60d-f5f9-47ad-fbe4-ec89b67abdf1"
      },
      "outputs": [
        {
          "output_type": "stream",
          "name": "stdout",
          "text": [
            "Mounted at /content/drive\n"
          ]
        }
      ],
      "source": [
        "from google.colab import drive\n",
        "import os\n",
        "drive.mount('/content/drive')"
      ]
    },
    {
      "cell_type": "code",
      "source": [
        "import pandas as pd \n",
        "import numpy as np\n",
        "import matplotlib.pyplot as plt"
      ],
      "metadata": {
        "id": "uIDfBkefzoQj"
      },
      "execution_count": 2,
      "outputs": []
    },
    {
      "cell_type": "code",
      "source": [
        "df=pd.read_csv('/content/drive/MyDrive/datatset/training.1600000.processed.noemoticon.csv',encoding='ISO-8859-1',names=['target','id','date','flag','user','text'],index_col=False)"
      ],
      "metadata": {
        "id": "OlGmixG5z0Tx"
      },
      "execution_count": 3,
      "outputs": []
    },
    {
      "cell_type": "code",
      "source": [
        "df.shape"
      ],
      "metadata": {
        "colab": {
          "base_uri": "https://localhost:8080/"
        },
        "id": "0hW7CnXLz2L6",
        "outputId": "a77d5c2d-86a3-4aa7-f621-b6c4b2c0aba2"
      },
      "execution_count": 4,
      "outputs": [
        {
          "output_type": "execute_result",
          "data": {
            "text/plain": [
              "(1600000, 6)"
            ]
          },
          "metadata": {},
          "execution_count": 4
        }
      ]
    },
    {
      "cell_type": "code",
      "source": [
        "df=df.dropna()\n",
        "df.shape"
      ],
      "metadata": {
        "colab": {
          "base_uri": "https://localhost:8080/"
        },
        "id": "UhjvvjBlz3vS",
        "outputId": "fbfbd44e-0541-4424-9a35-fe4f1d824f05"
      },
      "execution_count": 5,
      "outputs": [
        {
          "output_type": "execute_result",
          "data": {
            "text/plain": [
              "(1600000, 6)"
            ]
          },
          "metadata": {},
          "execution_count": 5
        }
      ]
    },
    {
      "cell_type": "code",
      "source": [
        "df['target'].unique()"
      ],
      "metadata": {
        "colab": {
          "base_uri": "https://localhost:8080/"
        },
        "id": "pQtmANqnz5Hk",
        "outputId": "fa30f464-77dc-4c30-ad07-1d57b5d1ec1b"
      },
      "execution_count": 6,
      "outputs": [
        {
          "output_type": "execute_result",
          "data": {
            "text/plain": [
              "array([0, 4])"
            ]
          },
          "metadata": {},
          "execution_count": 6
        }
      ]
    },
    {
      "cell_type": "code",
      "source": [
        "# converting to positive and negative\n",
        "classes=df.target.unique()\n",
        "counts=[]\n",
        "for i in classes:\n",
        "  count=len(df[df.target == i])\n",
        "  counts.append(count)\n",
        "plt.bar(['Negative','Positive'],counts)\n",
        "plt.show()"
      ],
      "metadata": {
        "colab": {
          "base_uri": "https://localhost:8080/",
          "height": 265
        },
        "id": "Y1_0vADKz6rd",
        "outputId": "3d0f43a6-7452-4581-dc42-5e8edfd6883f"
      },
      "execution_count": 7,
      "outputs": [
        {
          "output_type": "display_data",
          "data": {
            "text/plain": [
              "<Figure size 432x288 with 1 Axes>"
            ],
            "image/png": "[encoded data removed]"
          },
          "metadata": {
            "needs_background": "light"
          }
        }
      ]
    },
    {
      "cell_type": "code",
      "source": [
        "df['text_without_stopwords'] = df['text'].str.lower() "
      ],
      "metadata": {
        "id": "K7O-QRvTz8Tn"
      },
      "execution_count": 8,
      "outputs": []
    },
    {
      "cell_type": "code",
      "source": [
        "from nltk.corpus import stopwords\n",
        "import nltk\n",
        "nltk.download('stopwords')\n",
        "stop = stopwords.words('english')\n",
        "df['text_without_stopwords'] = df['text_without_stopwords'].apply(lambda x: ' '.join([word for word in x.split() if word not in (stop)]))\n",
        "df.drop(['text'],axis=1,inplace=True)"
      ],
      "metadata": {
        "colab": {
          "base_uri": "https://localhost:8080/"
        },
        "id": "lwV1-Ab6z-eP",
        "outputId": "e34486f1-88a0-4391-d2dd-6429bd954ec6"
      },
      "execution_count": 9,
      "outputs": [
        {
          "output_type": "stream",
          "name": "stderr",
          "text": [
            "[nltk_data] Downloading package stopwords to /root/nltk_data...\n",
            "[nltk_data]   Unzipping corpora/stopwords.zip.\n"
          ]
        }
      ]
    },
    {
      "cell_type": "code",
      "source": [
        "# for @ re post\n",
        "import re\n",
        "\n",
        "def remove_usernames_links(tweet):\n",
        "    tweet = re.sub('@[^\\s]+','',tweet)\n",
        "    tweet = re.sub('http[^\\s]+','',tweet)\n",
        "    return tweet\n",
        "df['text_without_stopwords'] = df['text_without_stopwords'].apply(remove_usernames_links)"
      ],
      "metadata": {
        "id": "8kk89IoS0AnI"
      },
      "execution_count": 10,
      "outputs": []
    },
    {
      "cell_type": "code",
      "source": [
        "# for url\n",
        "df[\"text_without_stopwords\"] = df[\"text_without_stopwords\"].str.replace(r'\\s*https?://\\S+(\\s+|$)-;', ' ').str.strip()\n",
        "# for special character \n",
        "df['text_without_stopwords'] = df['text_without_stopwords'].str.replace(r\"[\\\"\\'\\|\\?\\=\\.\\;\\#\\*\\-\\,\\?\\:\\{\\}\\+\\%\\!\\/]\", '')\n",
        "# for number\n",
        "df['text_without_stopwords'] = df['text_without_stopwords'].str.replace('\\d+', '')"
      ],
      "metadata": {
        "colab": {
          "base_uri": "https://localhost:8080/"
        },
        "id": "dcs6AAsk0Dth",
        "outputId": "690175b3-f4a6-4f84-9b9e-6fc217da1222"
      },
      "execution_count": 11,
      "outputs": [
        {
          "output_type": "stream",
          "name": "stderr",
          "text": [
            "<ipython-input-11-29e0a39c6e3e>:2: FutureWarning: The default value of regex will change from True to False in a future version.\n",
            "  df[\"text_without_stopwords\"] = df[\"text_without_stopwords\"].str.replace(r'\\s*https?://\\S+(\\s+|$)-;', ' ').str.strip()\n",
            "<ipython-input-11-29e0a39c6e3e>:4: FutureWarning: The default value of regex will change from True to False in a future version.\n",
            "  df['text_without_stopwords'] = df['text_without_stopwords'].str.replace(r\"[\\\"\\'\\|\\?\\=\\.\\;\\#\\*\\-\\,\\?\\:\\{\\}\\+\\%\\!\\/]\", '')\n",
            "<ipython-input-11-29e0a39c6e3e>:6: FutureWarning: The default value of regex will change from True to False in a future version.\n",
            "  df['text_without_stopwords'] = df['text_without_stopwords'].str.replace('\\d+', '')\n"
          ]
        }
      ]
    },
    {
      "cell_type": "code",
      "source": [
        "# steming\n",
        "import nltk\n",
        "nltk.download('wordnet')\n",
        "nltk.download('omw-1.4')\n",
        "from nltk.stem import PorterStemmer\n",
        "from nltk.stem import WordNetLemmatizer\n",
        "Lemmatizer=WordNetLemmatizer()\n",
        "def work(word):\n",
        "  word=Lemmatizer.lemmatize(word)\n",
        "  return word\n",
        "df['text_without_stopwords']=df['text_without_stopwords'].apply(work)"
      ],
      "metadata": {
        "colab": {
          "base_uri": "https://localhost:8080/"
        },
        "id": "Bu83qnYc0FvC",
        "outputId": "c81d7972-c637-4f20-d175-dd76885839e4"
      },
      "execution_count": 12,
      "outputs": [
        {
          "output_type": "stream",
          "name": "stderr",
          "text": [
            "[nltk_data] Downloading package wordnet to /root/nltk_data...\n",
            "[nltk_data] Downloading package omw-1.4 to /root/nltk_data...\n"
          ]
        }
      ]
    },
    {
      "cell_type": "code",
      "source": [
        "for i in range(50):\n",
        "  print(df['text_without_stopwords'][i])"
      ],
      "metadata": {
        "colab": {
          "base_uri": "https://localhost:8080/"
        },
        "id": "s-H_TYOO0JEV",
        "outputId": "2fa5694d-d968-4d8e-a877-1f5197de7a6b"
      },
      "execution_count": 13,
      "outputs": [
        {
          "output_type": "stream",
          "name": "stdout",
          "text": [
            " awww thats bummer shoulda got david carr third day it d\n",
            "upset cant update facebook texting it might cry result school today also blah\n",
            "dived many times ball managed save  rest go bounds\n",
            "whole body feels itchy like fire\n",
            "no behaving all im mad here cant see there\n",
            "whole crew\n",
            "need hug\n",
            "hey long time see yes rains bit only bit lol  im fine thanks  hows \n",
            "nope\n",
            "que muera \n",
            "spring break plain city snowing\n",
            "repierced ears\n",
            "bear watch it thought ua loss embarrassing     \n",
            "counts idk either never talk anymore\n",
            "wouldve first gun really though zac snyders doucheclown\n",
            "wish got watch you miss  premiere\n",
            "hollis death scene hurt severely watch film wry directors cut now\n",
            "file taxes\n",
            "ahh ive always wanted see rent love soundtrack\n",
            "oh dear drinking forgotten table drinks\n",
            "day get much done\n",
            "one friend called me asked meet mid valley todaybut ive time sigh\n",
            "baked cake ated\n",
            "week going hoped\n",
            "blagh class  tomorrow\n",
            "hate call wake people\n",
            "going cry sleep watching marley me\n",
            "im sad misslilly\n",
            "ooooh lol leslie ok leslie get mad\n",
            "meh almost lover exception track gets depressed every time\n",
            "some hacked account aim make new one\n",
            "want go promote gear groove unfornately ride may b going one anaheim may though\n",
            "thought sleeping option tomorrow realizing not evaluations morning work afternoon\n",
            "awe love too  miss\n",
            "cry asian eyes sleep night\n",
            "ok im sick spent hour sitting shower cause sick stand held back puke like champ bed\n",
            "ill tell ya story later good day ill workin like three hours\n",
            "sorry bed time came (gmt)\n",
            "either depressing think even want know kids suitcases\n",
            "bed class  work  gym   class  another day thats gonna fly by miss girlfriend\n",
            "really feel like getting today got study tomorrows practical exam\n",
            "hes reason teardrops guitar one enough break heart\n",
            "sad sad sad know hate feeling wanna sleep still cant\n",
            "awww soo wish see finally comfortable im sad missed\n",
            "falling asleep heard tracy girls body found sad heart breaks family\n",
            "yay im happy job also means less time you\n",
            "checked user timeline blackberry looks like twanking still happening ppl still probs w bgs uids\n",
            "oh manwas ironing  fave top wear meeting burnt\n",
            "strangely sad lilo samro breaking up\n",
            "oh im sorry think retweeting\n"
          ]
        }
      ]
    },
    {
      "cell_type": "code",
      "source": [
        "x=df.text_without_stopwords.values\n",
        "y=df.target.values"
      ],
      "metadata": {
        "id": "v5jP1D1q0LBV"
      },
      "execution_count": 14,
      "outputs": []
    },
    {
      "cell_type": "code",
      "source": [
        "from sklearn.feature_extraction.text import CountVectorizer\n",
        "vectorizer=CountVectorizer(max_features=5000,ngram_range=(1,3))\n",
        "x_done=vectorizer.fit_transform(x)"
      ],
      "metadata": {
        "id": "PkAMB8fp0NzG"
      },
      "execution_count": 21,
      "outputs": []
    },
    {
      "cell_type": "code",
      "source": [
        "x_done.shape"
      ],
      "metadata": {
        "colab": {
          "base_uri": "https://localhost:8080/"
        },
        "id": "Sh4eRwUz0PvA",
        "outputId": "68c74b2b-b5a7-4e6d-d9f9-90dfe0f3ee02"
      },
      "execution_count": 22,
      "outputs": [
        {
          "output_type": "execute_result",
          "data": {
            "text/plain": [
              "(1600000, 5000)"
            ]
          },
          "metadata": {},
          "execution_count": 22
        }
      ]
    },
    {
      "cell_type": "code",
      "source": [
        "## Divide the dataset into Train and Test\n",
        "from sklearn.model_selection import train_test_split\n",
        "X_train, X_test, y_train, y_test = train_test_split(x_done, y, test_size=0.10, random_state=673)"
      ],
      "metadata": {
        "id": "b8rFDhC60UHC"
      },
      "execution_count": 23,
      "outputs": []
    },
    {
      "cell_type": "code",
      "source": [
        "from sklearn.naive_bayes import MultinomialNB\n",
        "classifier=MultinomialNB(alpha=0.1)"
      ],
      "metadata": {
        "id": "cY41UQaD0W8L"
      },
      "execution_count": 36,
      "outputs": []
    },
    {
      "cell_type": "code",
      "source": [
        "classifier.fit(X_train, y_train)"
      ],
      "metadata": {
        "colab": {
          "base_uri": "https://localhost:8080/"
        },
        "id": "Nysk9SJG0aVl",
        "outputId": "3e529a4f-2b6d-4430-86b0-3b51c93c9eb5"
      },
      "execution_count": 37,
      "outputs": [
        {
          "output_type": "execute_result",
          "data": {
            "text/plain": [
              "MultinomialNB(alpha=0.1)"
            ]
          },
          "metadata": {},
          "execution_count": 37
        }
      ]
    },
    {
      "cell_type": "code",
      "source": [
        "pred1=classifier.predict(X_test)\n",
        "prdiction_train1=classifier.predict(X_train)"
      ],
      "metadata": {
        "id": "uVJ5BIg40iMp"
      },
      "execution_count": 38,
      "outputs": []
    },
    {
      "cell_type": "code",
      "source": [
        "from sklearn.metrics import accuracy_score\n",
        "accuracy11 = accuracy_score(y_train,prdiction_train1)\n",
        "print(\"Accuracy for Train\",accuracy11*100)"
      ],
      "metadata": {
        "colab": {
          "base_uri": "https://localhost:8080/"
        },
        "id": "QVew1MfZ0wcV",
        "outputId": "6b2d0920-932f-42d7-e27f-e373b3ed4322"
      },
      "execution_count": 39,
      "outputs": [
        {
          "output_type": "stream",
          "name": "stdout",
          "text": [
            "Accuracy for Train 75.82388888888889\n"
          ]
        }
      ]
    },
    {
      "cell_type": "code",
      "source": [
        "accuracy2 = accuracy_score(y_test,pred1)\n",
        "print(\"Accuracy for Test\",accuracy2*100)"
      ],
      "metadata": {
        "colab": {
          "base_uri": "https://localhost:8080/"
        },
        "id": "KEKvc4gG2NCT",
        "outputId": "e640a907-fa17-4a73-c842-2a77665883ca"
      },
      "execution_count": 40,
      "outputs": [
        {
          "output_type": "stream",
          "name": "stdout",
          "text": [
            "Accuracy for Test 75.6275\n"
          ]
        }
      ]
    },
    {
      "cell_type": "code",
      "source": [],
      "metadata": {
        "id": "CpoyaEoe2P2k"
      },
      "execution_count": null,
      "outputs": []
    }
  ]
}